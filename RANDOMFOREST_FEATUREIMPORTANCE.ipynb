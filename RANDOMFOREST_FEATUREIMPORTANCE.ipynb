{
  "cells": [
    {
      "cell_type": "markdown",
      "metadata": {
        "id": "dbX4CoRfq-KW"
      },
      "source": [
        "Building a Random Forest Classifier from scratch and fitting it on Dataset2"
      ]
    },
    {
      "cell_type": "markdown",
      "metadata": {
        "id": "POJVH05iq-KY"
      },
      "source": [
        "Building a Random Forest Classifier on Dataset 1 using Libraries"
      ]
    },
    {
      "cell_type": "code",
      "execution_count": null,
      "metadata": {
        "id": "AK4zGkm7q-KY"
      },
      "outputs": [],
      "source": [
        "import pandas as pd\n",
        "import numpy as np\n",
        "from sklearn.model_selection import train_test_split\n",
        "from sklearn.ensemble import RandomForestClassifier\n",
        "from sklearn.tree import DecisionTreeClassifier\n",
        "from  sklearn.metrics import accuracy_score,f1_score"
      ]
    },
    {
      "cell_type": "code",
      "execution_count": null,
      "metadata": {
        "id": "mDeusKQDq-KY",
        "outputId": "f8cba342-b002-4875-f250-43dac82fec2c"
      },
      "outputs": [
        {
          "data": {
            "text/html": [
              "<div>\n",
              "<style scoped>\n",
              "    .dataframe tbody tr th:only-of-type {\n",
              "        vertical-align: middle;\n",
              "    }\n",
              "\n",
              "    .dataframe tbody tr th {\n",
              "        vertical-align: top;\n",
              "    }\n",
              "\n",
              "    .dataframe thead th {\n",
              "        text-align: right;\n",
              "    }\n",
              "</style>\n",
              "<table border=\"1\" class=\"dataframe\">\n",
              "  <thead>\n",
              "    <tr style=\"text-align: right;\">\n",
              "      <th></th>\n",
              "      <th>Id</th>\n",
              "      <th>SepalLengthCm</th>\n",
              "      <th>SepalWidthCm</th>\n",
              "      <th>PetalLengthCm</th>\n",
              "      <th>PetalWidthCm</th>\n",
              "      <th>Species</th>\n",
              "    </tr>\n",
              "  </thead>\n",
              "  <tbody>\n",
              "    <tr>\n",
              "      <th>0</th>\n",
              "      <td>1</td>\n",
              "      <td>5.1</td>\n",
              "      <td>3.5</td>\n",
              "      <td>1.4</td>\n",
              "      <td>0.2</td>\n",
              "      <td>Iris-setosa</td>\n",
              "    </tr>\n",
              "    <tr>\n",
              "      <th>1</th>\n",
              "      <td>2</td>\n",
              "      <td>4.9</td>\n",
              "      <td>3.0</td>\n",
              "      <td>1.4</td>\n",
              "      <td>0.2</td>\n",
              "      <td>Iris-setosa</td>\n",
              "    </tr>\n",
              "    <tr>\n",
              "      <th>2</th>\n",
              "      <td>3</td>\n",
              "      <td>4.7</td>\n",
              "      <td>3.2</td>\n",
              "      <td>1.3</td>\n",
              "      <td>0.2</td>\n",
              "      <td>Iris-setosa</td>\n",
              "    </tr>\n",
              "    <tr>\n",
              "      <th>3</th>\n",
              "      <td>4</td>\n",
              "      <td>4.6</td>\n",
              "      <td>3.1</td>\n",
              "      <td>1.5</td>\n",
              "      <td>0.2</td>\n",
              "      <td>Iris-setosa</td>\n",
              "    </tr>\n",
              "    <tr>\n",
              "      <th>4</th>\n",
              "      <td>5</td>\n",
              "      <td>5.0</td>\n",
              "      <td>3.6</td>\n",
              "      <td>1.4</td>\n",
              "      <td>0.2</td>\n",
              "      <td>Iris-setosa</td>\n",
              "    </tr>\n",
              "    <tr>\n",
              "      <th>5</th>\n",
              "      <td>6</td>\n",
              "      <td>5.4</td>\n",
              "      <td>3.9</td>\n",
              "      <td>1.7</td>\n",
              "      <td>0.4</td>\n",
              "      <td>Iris-setosa</td>\n",
              "    </tr>\n",
              "    <tr>\n",
              "      <th>6</th>\n",
              "      <td>7</td>\n",
              "      <td>4.6</td>\n",
              "      <td>3.4</td>\n",
              "      <td>1.4</td>\n",
              "      <td>0.3</td>\n",
              "      <td>Iris-setosa</td>\n",
              "    </tr>\n",
              "    <tr>\n",
              "      <th>7</th>\n",
              "      <td>8</td>\n",
              "      <td>5.0</td>\n",
              "      <td>3.4</td>\n",
              "      <td>1.5</td>\n",
              "      <td>0.2</td>\n",
              "      <td>Iris-setosa</td>\n",
              "    </tr>\n",
              "    <tr>\n",
              "      <th>8</th>\n",
              "      <td>9</td>\n",
              "      <td>4.4</td>\n",
              "      <td>2.9</td>\n",
              "      <td>1.4</td>\n",
              "      <td>0.2</td>\n",
              "      <td>Iris-setosa</td>\n",
              "    </tr>\n",
              "    <tr>\n",
              "      <th>9</th>\n",
              "      <td>10</td>\n",
              "      <td>4.9</td>\n",
              "      <td>3.1</td>\n",
              "      <td>1.5</td>\n",
              "      <td>0.1</td>\n",
              "      <td>Iris-setosa</td>\n",
              "    </tr>\n",
              "  </tbody>\n",
              "</table>\n",
              "</div>"
            ],
            "text/plain": [
              "   Id  SepalLengthCm  SepalWidthCm  PetalLengthCm  PetalWidthCm      Species\n",
              "0   1            5.1           3.5            1.4           0.2  Iris-setosa\n",
              "1   2            4.9           3.0            1.4           0.2  Iris-setosa\n",
              "2   3            4.7           3.2            1.3           0.2  Iris-setosa\n",
              "3   4            4.6           3.1            1.5           0.2  Iris-setosa\n",
              "4   5            5.0           3.6            1.4           0.2  Iris-setosa\n",
              "5   6            5.4           3.9            1.7           0.4  Iris-setosa\n",
              "6   7            4.6           3.4            1.4           0.3  Iris-setosa\n",
              "7   8            5.0           3.4            1.5           0.2  Iris-setosa\n",
              "8   9            4.4           2.9            1.4           0.2  Iris-setosa\n",
              "9  10            4.9           3.1            1.5           0.1  Iris-setosa"
            ]
          },
          "execution_count": 22,
          "metadata": {},
          "output_type": "execute_result"
        }
      ],
      "source": [
        "df = pd.read_csv(\"content/Iris.csv\")\n",
        "df.head(10)"
      ]
    },
    {
      "cell_type": "code",
      "execution_count": null,
      "metadata": {
        "id": "erkWOaQlq-KY",
        "outputId": "99997396-f050-415b-8c86-1a6210849d90"
      },
      "outputs": [
        {
          "name": "stdout",
          "output_type": "stream",
          "text": [
            "(150, 5)\n",
            "(150,)\n"
          ]
        }
      ],
      "source": [
        "X = df.iloc[:, :-1]\n",
        "y = df.iloc[:, -1]\n",
        "\n",
        "print(X.shape)\n",
        "print(y.shape)"
      ]
    },
    {
      "cell_type": "code",
      "execution_count": null,
      "metadata": {
        "id": "P7SVz7V2q-KY"
      },
      "outputs": [],
      "source": [
        "X_train,X_test,y_train,y_test = train_test_split(X, y, test_size=0.2, random_state=42)"
      ]
    },
    {
      "cell_type": "code",
      "execution_count": null,
      "metadata": {
        "id": "G4tEDJtzq-KY",
        "outputId": "079a6b7f-fda9-426f-f438-99bf57743bfb"
      },
      "outputs": [
        {
          "name": "stdout",
          "output_type": "stream",
          "text": [
            "Accuracy Score (Training):  1.0\n",
            "F1 Score (Training) 1.0\n",
            "Accuracy Score (Testing):  1.0\n",
            "F1 Score (Testing) 1.0\n"
          ]
        }
      ],
      "source": [
        "rndfor = RandomForestClassifier(n_estimators=100)\n",
        "\n",
        "rndfor.fit(X_train, y_train)\n",
        "y_pred_1 = rndfor.predict(X_train)\n",
        "y_pred_2 = rndfor.predict(X_test)\n",
        "\n",
        "print(\"Accuracy Score (Training): \", accuracy_score(y_train, y_pred_1))\n",
        "print(\"F1 Score (Training)\", f1_score(y_train, y_pred_1, average=\"weighted\"))\n",
        "\n",
        "print(\"Accuracy Score (Testing): \", accuracy_score(y_test, y_pred_2))\n",
        "print(\"F1 Score (Testing)\", f1_score(y_test, y_pred_2, average=\"weighted\"))"
      ]
    },
    {
      "cell_type": "code",
      "execution_count": null,
      "metadata": {
        "id": "LeCIZ_Tbq-KY",
        "outputId": "b7cdc0f3-d363-4252-fe3a-29cd67746cbe"
      },
      "outputs": [
        {
          "name": "stdout",
          "output_type": "stream",
          "text": [
            "Accuracy Score (Training):  1.0\n",
            "F1 Score (Training) 1.0\n",
            "Accuracy Score (Testing):  1.0\n",
            "F1 Score (Testing) 1.0\n"
          ]
        }
      ],
      "source": [
        "clf = DecisionTreeClassifier()\n",
        "\n",
        "X_train,X_test,y_train,y_test = train_test_split(X, y, test_size=0.2, random_state=42)\n",
        "\n",
        "clf.fit(X_train, y_train)\n",
        "y_pred_1 = clf.predict(X_train)\n",
        "y_pred_2 = clf.predict(X_test)\n",
        "\n",
        "print(\"Accuracy Score (Training): \", accuracy_score(y_train, y_pred_1))\n",
        "print(\"F1 Score (Training)\", f1_score(y_train, y_pred_1, average=\"weighted\"))\n",
        "\n",
        "print(\"Accuracy Score (Testing): \", accuracy_score(y_test, y_pred_2))\n",
        "print(\"F1 Score (Testing)\", f1_score(y_test, y_pred_2, average=\"weighted\"))"
      ]
    },
    {
      "cell_type": "markdown",
      "metadata": {
        "id": "P0oZ3Wlsq-KY"
      },
      "source": [
        "Bulding Random forest on Dataset 1,2 and 3 and comparing results with and without selecting important features only"
      ]
    },
    {
      "cell_type": "markdown",
      "metadata": {
        "id": "um0jDkMMq-KY"
      },
      "source": [
        "Dataset 1"
      ]
    },
    {
      "cell_type": "code",
      "execution_count": null,
      "metadata": {
        "id": "yzZO3_sDq-KZ"
      },
      "outputs": [],
      "source": [
        "import pandas as pd\n",
        "import numpy as np\n",
        "from sklearn.model_selection import train_test_split\n",
        "from sklearn.ensemble import RandomForestClassifier\n",
        "from sklearn.tree import DecisionTreeClassifier\n",
        "from  sklearn.metrics import accuracy_score,f1_score"
      ]
    },
    {
      "cell_type": "code",
      "execution_count": null,
      "metadata": {
        "id": "a5aezBSGq-KZ",
        "outputId": "a80b4f99-b506-48cb-c201-7011c32f843b"
      },
      "outputs": [
        {
          "data": {
            "text/html": [
              "<div>\n",
              "<style scoped>\n",
              "    .dataframe tbody tr th:only-of-type {\n",
              "        vertical-align: middle;\n",
              "    }\n",
              "\n",
              "    .dataframe tbody tr th {\n",
              "        vertical-align: top;\n",
              "    }\n",
              "\n",
              "    .dataframe thead th {\n",
              "        text-align: right;\n",
              "    }\n",
              "</style>\n",
              "<table border=\"1\" class=\"dataframe\">\n",
              "  <thead>\n",
              "    <tr style=\"text-align: right;\">\n",
              "      <th></th>\n",
              "      <th>Id</th>\n",
              "      <th>SepalLengthCm</th>\n",
              "      <th>SepalWidthCm</th>\n",
              "      <th>PetalLengthCm</th>\n",
              "      <th>PetalWidthCm</th>\n",
              "      <th>Species</th>\n",
              "    </tr>\n",
              "  </thead>\n",
              "  <tbody>\n",
              "    <tr>\n",
              "      <th>0</th>\n",
              "      <td>1</td>\n",
              "      <td>5.1</td>\n",
              "      <td>3.5</td>\n",
              "      <td>1.4</td>\n",
              "      <td>0.2</td>\n",
              "      <td>Iris-setosa</td>\n",
              "    </tr>\n",
              "    <tr>\n",
              "      <th>1</th>\n",
              "      <td>2</td>\n",
              "      <td>4.9</td>\n",
              "      <td>3.0</td>\n",
              "      <td>1.4</td>\n",
              "      <td>0.2</td>\n",
              "      <td>Iris-setosa</td>\n",
              "    </tr>\n",
              "    <tr>\n",
              "      <th>2</th>\n",
              "      <td>3</td>\n",
              "      <td>4.7</td>\n",
              "      <td>3.2</td>\n",
              "      <td>1.3</td>\n",
              "      <td>0.2</td>\n",
              "      <td>Iris-setosa</td>\n",
              "    </tr>\n",
              "    <tr>\n",
              "      <th>3</th>\n",
              "      <td>4</td>\n",
              "      <td>4.6</td>\n",
              "      <td>3.1</td>\n",
              "      <td>1.5</td>\n",
              "      <td>0.2</td>\n",
              "      <td>Iris-setosa</td>\n",
              "    </tr>\n",
              "    <tr>\n",
              "      <th>4</th>\n",
              "      <td>5</td>\n",
              "      <td>5.0</td>\n",
              "      <td>3.6</td>\n",
              "      <td>1.4</td>\n",
              "      <td>0.2</td>\n",
              "      <td>Iris-setosa</td>\n",
              "    </tr>\n",
              "  </tbody>\n",
              "</table>\n",
              "</div>"
            ],
            "text/plain": [
              "   Id  SepalLengthCm  SepalWidthCm  PetalLengthCm  PetalWidthCm      Species\n",
              "0   1            5.1           3.5            1.4           0.2  Iris-setosa\n",
              "1   2            4.9           3.0            1.4           0.2  Iris-setosa\n",
              "2   3            4.7           3.2            1.3           0.2  Iris-setosa\n",
              "3   4            4.6           3.1            1.5           0.2  Iris-setosa\n",
              "4   5            5.0           3.6            1.4           0.2  Iris-setosa"
            ]
          },
          "execution_count": 30,
          "metadata": {},
          "output_type": "execute_result"
        }
      ],
      "source": [
        "dataset_1 = pd.read_csv(\"content/Iris.csv\")\n",
        "dataset_1.head()"
      ]
    },
    {
      "cell_type": "code",
      "execution_count": null,
      "metadata": {
        "id": "DbTHX5Jyq-KZ"
      },
      "outputs": [],
      "source": [
        "feature_col = ['SepalLengthCm', 'SepalWidthCm', 'PetalLengthCm', 'PetalWidthCm']\n",
        "X = df[feature_col]\n",
        "y = df['Species']"
      ]
    },
    {
      "cell_type": "code",
      "execution_count": null,
      "metadata": {
        "id": "MiS3ZPkyq-KZ"
      },
      "outputs": [],
      "source": [
        "X_train, X_test, y_train, y_test = train_test_split(X, y, test_size=0.3, random_state=1)"
      ]
    },
    {
      "cell_type": "code",
      "execution_count": null,
      "metadata": {
        "id": "tMyKP863q-KZ",
        "outputId": "e96abbbc-a539-41b5-e7d9-a1c62deea6f2"
      },
      "outputs": [
        {
          "data": {
            "text/plain": [
              "column_binned\n",
              "(5.74, 6.46]     42\n",
              "(5.02, 5.74]     41\n",
              "(4.296, 5.02]    32\n",
              "(6.46, 7.18]     24\n",
              "(7.18, 7.9]      11\n",
              "Name: count, dtype: int64"
            ]
          },
          "execution_count": 41,
          "metadata": {},
          "output_type": "execute_result"
        }
      ],
      "source": [
        "import pandas as pd\n",
        "\n",
        "df['column_binned'] = pd.cut(df['SepalLengthCm'], bins=5)\n",
        "\n",
        "df['column_binned'].value_counts()"
      ]
    },
    {
      "cell_type": "code",
      "execution_count": null,
      "metadata": {
        "id": "dhjY2rYRq-KZ",
        "outputId": "7e9c166b-1388-4f54-c488-c49d3bf3f36e"
      },
      "outputs": [
        {
          "name": "stdout",
          "output_type": "stream",
          "text": [
            "Accuracy: 0.9666666666666667\n"
          ]
        }
      ],
      "source": [
        "from sklearn.model_selection import train_test_split\n",
        "from sklearn.tree import DecisionTreeClassifier\n",
        "from sklearn.metrics import accuracy_score\n",
        "\n",
        "X_train, X_test, y_train, y_test = train_test_split(X, y, test_size=0.2)\n",
        "\n",
        "clf = DecisionTreeClassifier()\n",
        "\n",
        "clf.fit(X_train, y_train)\n",
        "\n",
        "y_pred = clf.predict(X_test)\n",
        "\n",
        "accuracy = accuracy_score(y_test, y_pred)\n",
        "\n",
        "print(f\"Accuracy: {accuracy}\")"
      ]
    },
    {
      "cell_type": "code",
      "execution_count": null,
      "metadata": {
        "id": "mwqcqD6xq-KZ",
        "outputId": "301ccc95-19ce-4b15-ec32-c51430c65b64"
      },
      "outputs": [
        {
          "name": "stdout",
          "output_type": "stream",
          "text": [
            "Accuracy: 0.9666666666666667\n"
          ]
        }
      ],
      "source": [
        "from sklearn.ensemble import RandomForestClassifier\n",
        "from sklearn.model_selection import train_test_split\n",
        "from sklearn.metrics import accuracy_score\n",
        "\n",
        "X_train, X_test, y_train, y_test = train_test_split(X, y, test_size=0.2, random_state=1)\n",
        "\n",
        "clf = RandomForestClassifier(n_estimators=100)\n",
        "\n",
        "clf.fit(X_train, y_train)\n",
        "\n",
        "y_pred = clf.predict(X_test)\n",
        "\n",
        "accuracy = accuracy_score(y_test, y_pred)\n",
        "\n",
        "print(f\"Accuracy: {accuracy}\")"
      ]
    },
    {
      "cell_type": "code",
      "execution_count": null,
      "metadata": {
        "id": "o2mp6LeIq-KZ",
        "outputId": "b9d20c0b-f207-4223-e87c-4413412aa50c"
      },
      "outputs": [
        {
          "name": "stdout",
          "output_type": "stream",
          "text": [
            "PetalWidthCm     0.448718\n",
            "PetalLengthCm    0.389443\n",
            "SepalLengthCm    0.135047\n",
            "SepalWidthCm     0.026792\n",
            "dtype: float64\n"
          ]
        }
      ],
      "source": [
        "feature_imp = pd.Series(clf.feature_importances_, index=feature_col).sort_values(ascending=False)\n",
        "print(feature_imp)"
      ]
    },
    {
      "cell_type": "code",
      "execution_count": null,
      "metadata": {
        "id": "raV-A84Vq-KZ",
        "outputId": "59671f8f-d279-4102-e3d3-6e7848b94079"
      },
      "outputs": [
        {
          "data": {
            "image/png": "[encoded data removed]",
            "text/plain": [
              "<Figure size 640x480 with 1 Axes>"
            ]
          },
          "metadata": {},
          "output_type": "display_data"
        }
      ],
      "source": [
        "import matplotlib.pyplot as plt\n",
        "import seaborn as sns\n",
        "%matplotlib inline\n",
        "\n",
        "sns.barplot(x=feature_imp, y=feature_imp.index)\n",
        "\n",
        "plt.xlabel('Feature Importance Score')\n",
        "plt.ylabel('Features')\n",
        "plt.title(\"Visualizing Important Features\")\n",
        "plt.show()"
      ]
    },
    {
      "cell_type": "code",
      "execution_count": null,
      "metadata": {
        "id": "we8e6Prmq-KZ"
      },
      "outputs": [],
      "source": [
        "from sklearn.model_selection import train_test_split\n",
        "\n",
        "X = df[['PetalLengthCm', 'PetalWidthCm', 'SepalLengthCm']]\n",
        "y = df['Species']\n",
        "\n",
        "X_train, X_test, y_train, y_test = train_test_split(X, y, test_size=0.2, random_state=5)"
      ]
    },
    {
      "cell_type": "code",
      "execution_count": null,
      "metadata": {
        "id": "4xUVfGDQq-KZ",
        "outputId": "b9b5fa0e-3d8e-415c-984e-081a76d15f10"
      },
      "outputs": [
        {
          "name": "stdout",
          "output_type": "stream",
          "text": [
            "Accuracy: 0.9666666666666667\n"
          ]
        }
      ],
      "source": [
        "from sklearn.ensemble import RandomForestClassifier\n",
        "from sklearn.model_selection import train_test_split\n",
        "from sklearn.metrics import accuracy_score\n",
        "\n",
        "X_train, X_test, y_train, y_test = train_test_split(X, y, test_size=0.2, random_state=1)\n",
        "\n",
        "clf = RandomForestClassifier(n_estimators=100)\n",
        "\n",
        "clf.fit(X_train, y_train)\n",
        "\n",
        "y_pred = clf.predict(X_test)\n",
        "\n",
        "accuracy = accuracy_score(y_test, y_pred)\n",
        "\n",
        "print(f\"Accuracy: {accuracy}\")"
      ]
    },
    {
      "cell_type": "markdown",
      "metadata": {
        "id": "dRFna_Tlq-KZ"
      },
      "source": [
        "We see that even dropping the column with the lowest importance does not make that big of a difference"
      ]
    },
    {
      "cell_type": "markdown",
      "metadata": {
        "id": "XJJcDB54q-Ka"
      },
      "source": [
        "Dataset 2"
      ]
    },
    {
      "cell_type": "code",
      "execution_count": null,
      "metadata": {
        "id": "Iuzn8LiVq-Ka",
        "outputId": "cb3bbbfb-21a9-436a-e3a1-c195cab1bbe8"
      },
      "outputs": [
        {
          "data": {
            "text/html": [
              "<div>\n",
              "<style scoped>\n",
              "    .dataframe tbody tr th:only-of-type {\n",
              "        vertical-align: middle;\n",
              "    }\n",
              "\n",
              "    .dataframe tbody tr th {\n",
              "        vertical-align: top;\n",
              "    }\n",
              "\n",
              "    .dataframe thead th {\n",
              "        text-align: right;\n",
              "    }\n",
              "</style>\n",
              "<table border=\"1\" class=\"dataframe\">\n",
              "  <thead>\n",
              "    <tr style=\"text-align: right;\">\n",
              "      <th></th>\n",
              "      <th>mean_radius</th>\n",
              "      <th>mean_texture</th>\n",
              "      <th>mean_perimeter</th>\n",
              "      <th>mean_area</th>\n",
              "      <th>mean_smoothness</th>\n",
              "      <th>diagnosis</th>\n",
              "    </tr>\n",
              "  </thead>\n",
              "  <tbody>\n",
              "    <tr>\n",
              "      <th>0</th>\n",
              "      <td>17.99</td>\n",
              "      <td>10.38</td>\n",
              "      <td>122.80</td>\n",
              "      <td>1001.0</td>\n",
              "      <td>0.11840</td>\n",
              "      <td>0</td>\n",
              "    </tr>\n",
              "    <tr>\n",
              "      <th>1</th>\n",
              "      <td>20.57</td>\n",
              "      <td>17.77</td>\n",
              "      <td>132.90</td>\n",
              "      <td>1326.0</td>\n",
              "      <td>0.08474</td>\n",
              "      <td>0</td>\n",
              "    </tr>\n",
              "    <tr>\n",
              "      <th>2</th>\n",
              "      <td>19.69</td>\n",
              "      <td>21.25</td>\n",
              "      <td>130.00</td>\n",
              "      <td>1203.0</td>\n",
              "      <td>0.10960</td>\n",
              "      <td>0</td>\n",
              "    </tr>\n",
              "    <tr>\n",
              "      <th>3</th>\n",
              "      <td>11.42</td>\n",
              "      <td>20.38</td>\n",
              "      <td>77.58</td>\n",
              "      <td>386.1</td>\n",
              "      <td>0.14250</td>\n",
              "      <td>0</td>\n",
              "    </tr>\n",
              "    <tr>\n",
              "      <th>4</th>\n",
              "      <td>20.29</td>\n",
              "      <td>14.34</td>\n",
              "      <td>135.10</td>\n",
              "      <td>1297.0</td>\n",
              "      <td>0.10030</td>\n",
              "      <td>0</td>\n",
              "    </tr>\n",
              "  </tbody>\n",
              "</table>\n",
              "</div>"
            ],
            "text/plain": [
              "   mean_radius  mean_texture  mean_perimeter  mean_area  mean_smoothness  \\\n",
              "0        17.99         10.38          122.80     1001.0          0.11840   \n",
              "1        20.57         17.77          132.90     1326.0          0.08474   \n",
              "2        19.69         21.25          130.00     1203.0          0.10960   \n",
              "3        11.42         20.38           77.58      386.1          0.14250   \n",
              "4        20.29         14.34          135.10     1297.0          0.10030   \n",
              "\n",
              "   diagnosis  \n",
              "0          0  \n",
              "1          0  \n",
              "2          0  \n",
              "3          0  \n",
              "4          0  "
            ]
          },
          "execution_count": 48,
          "metadata": {},
          "output_type": "execute_result"
        }
      ],
      "source": [
        "dataset2 = pd.read_csv(\"content/Breast_cancer_data.csv\")\n",
        "dataset2.head()"
      ]
    },
    {
      "cell_type": "code",
      "execution_count": null,
      "metadata": {
        "id": "Qt5VYJgaq-Ka"
      },
      "outputs": [],
      "source": [
        "from sklearn.model_selection import train_test_split\n",
        "\n",
        "X = dataset2[['mean_radius', 'mean_texture', 'mean_perimeter', 'mean_area', 'mean_smoothness']]\n",
        "y = dataset2['diagnosis']\n",
        "\n",
        "X_train, X_test, y_train, y_test = train_test_split(X, y, test_size=0.2, random_state=1)"
      ]
    },
    {
      "cell_type": "code",
      "execution_count": null,
      "metadata": {
        "id": "_gowzDCEq-Ka",
        "outputId": "2f0a1ce3-e4f7-4e6c-c841-0e94990f2c3b"
      },
      "outputs": [
        {
          "name": "stdout",
          "output_type": "stream",
          "text": [
            "Accuracy: 0.8947368421052632\n"
          ]
        }
      ],
      "source": [
        "from sklearn.ensemble import RandomForestClassifier\n",
        "from sklearn.metrics import accuracy_score\n",
        "\n",
        "clf2 = RandomForestClassifier(n_estimators=100)\n",
        "\n",
        "clf2.fit(X_train, y_train)\n",
        "\n",
        "y_pred = clf2.predict(X_test)\n",
        "\n",
        "accuracy = accuracy_score(y_test, y_pred)\n",
        "\n",
        "print(f\"Accuracy: {accuracy}\")"
      ]
    },
    {
      "cell_type": "code",
      "execution_count": null,
      "metadata": {
        "id": "-RRqhkLkq-Ka",
        "outputId": "6cd2bb5b-69ba-4070-8f95-1d728ad8fdfb"
      },
      "outputs": [
        {
          "name": "stdout",
          "output_type": "stream",
          "text": [
            "Accuracy: 1.0\n"
          ]
        }
      ],
      "source": [
        "from sklearn.tree import DecisionTreeClassifier\n",
        "from sklearn.metrics import accuracy_score\n",
        "\n",
        "clf2 = DecisionTreeClassifier()\n",
        "\n",
        "clf2.fit(X_train, y_train)\n",
        "\n",
        "y_pred = clf2.predict(X_test)\n",
        "\n",
        "accuracy = accuracy_score(y_test, y_pred)\n",
        "\n",
        "print(f\"Accuracy: {accuracy}\")"
      ]
    },
    {
      "cell_type": "code",
      "execution_count": null,
      "metadata": {
        "id": "c4ejOc7Mq-Ka",
        "outputId": "b6b54605-cf1a-413f-9a11-7f7dc4eb0aee"
      },
      "outputs": [
        {
          "name": "stdout",
          "output_type": "stream",
          "text": [
            "mean_area          0.298678\n",
            "mean_perimeter     0.267576\n",
            "mean_radius        0.219950\n",
            "mean_texture       0.124449\n",
            "mean_smoothness    0.089348\n",
            "dtype: float64\n"
          ]
        }
      ],
      "source": [
        "feature_col2 = ['mean_radius', 'mean_texture', 'mean_perimeter', 'mean_area', 'mean_smoothness']\n",
        "feature_imp2 = pd.Series(clf2.feature_importances_, index=feature_col2).sort_values(ascending=False)\n",
        "print(feature_imp2)"
      ]
    },
    {
      "cell_type": "code",
      "execution_count": null,
      "metadata": {
        "id": "z743JA60q-Ka",
        "outputId": "6a124b5b-f43e-4894-e5d5-3e5f01245fbc"
      },
      "outputs": [
        {
          "data": {
            "image/png": "[encoded data removed]",
            "text/plain": [
              "<Figure size 640x480 with 1 Axes>"
            ]
          },
          "metadata": {},
          "output_type": "display_data"
        }
      ],
      "source": [
        "import matplotlib.pyplot as plt\n",
        "import seaborn as sns\n",
        "%matplotlib inline\n",
        "\n",
        "sns.barplot(x=feature_imp2, y=feature_imp2.index)\n",
        "\n",
        "plt.xlabel('Feature Importance Score')\n",
        "plt.ylabel('Features')\n",
        "plt.title(\"Visualizing Important Features\")\n",
        "plt.show()\n"
      ]
    },
    {
      "cell_type": "code",
      "execution_count": null,
      "metadata": {
        "id": "CwTM3zZOq-Ki"
      },
      "outputs": [],
      "source": [
        "from sklearn.model_selection import train_test_split\n",
        "\n",
        "X = dataset2[['mean_perimeter', 'mean_area', 'mean_radius', 'mean_texture']]\n",
        "y = dataset2['diagnosis']\n",
        "\n",
        "X_train, X_test, y_train, y_test = train_test_split(X, y, test_size=0.2, random_state=1)"
      ]
    },
    {
      "cell_type": "code",
      "execution_count": null,
      "metadata": {
        "id": "6Orj_nYAq-Ki",
        "outputId": "5aa898e6-fc13-4582-fba3-31e803a6c276"
      },
      "outputs": [
        {
          "name": "stdout",
          "output_type": "stream",
          "text": [
            "Accuracy: 0.868421052631579\n"
          ]
        }
      ],
      "source": [
        "from sklearn.ensemble import RandomForestClassifier\n",
        "from sklearn.metrics import accuracy_score\n",
        "\n",
        "clf = RandomForestClassifier(n_estimators=100)\n",
        "\n",
        "clf.fit(X_train, y_train)\n",
        "\n",
        "y_pred = clf.predict(X_test)\n",
        "\n",
        "accuracy = accuracy_score(y_test, y_pred)\n",
        "\n",
        "print(f\"Accuracy: {accuracy}\")"
      ]
    },
    {
      "cell_type": "code",
      "execution_count": null,
      "metadata": {
        "id": "gaTY5B5Bq-Ki",
        "outputId": "86e3048e-ce43-47f1-a6d0-1fe41e8c6633"
      },
      "outputs": [
        {
          "name": "stdout",
          "output_type": "stream",
          "text": [
            "Accuracy: 1.0\n"
          ]
        }
      ],
      "source": [
        "from sklearn.tree import DecisionTreeClassifier\n",
        "from sklearn.metrics import accuracy_score\n",
        "\n",
        "clf2 = DecisionTreeClassifier()\n",
        "\n",
        "clf2.fit(X_train, y_train)\n",
        "\n",
        "y_pred = clf2.predict(X_test)\n",
        "\n",
        "accuracy = accuracy_score(y_test, y_pred)\n",
        "\n",
        "print(f\"Accuracy: {accuracy}\")"
      ]
    },
    {
      "cell_type": "markdown",
      "metadata": {
        "id": "8AwUlAUaq-Ki"
      },
      "source": [
        "We see that even dropping the column with the lowest importance does not make that big of a difference"
      ]
    },
    {
      "cell_type": "markdown",
      "metadata": {
        "id": "_RU5mYIVq-Ki"
      },
      "source": [
        "Dataset 3"
      ]
    },
    {
      "cell_type": "code",
      "execution_count": null,
      "metadata": {
        "id": "dpOlscJAq-Ki",
        "outputId": "7b3e1b58-58ad-4376-f187-d065ef411730"
      },
      "outputs": [
        {
          "data": {
            "text/html": [
              "<div>\n",
              "<style scoped>\n",
              "    .dataframe tbody tr th:only-of-type {\n",
              "        vertical-align: middle;\n",
              "    }\n",
              "\n",
              "    .dataframe tbody tr th {\n",
              "        vertical-align: top;\n",
              "    }\n",
              "\n",
              "    .dataframe thead th {\n",
              "        text-align: right;\n",
              "    }\n",
              "</style>\n",
              "<table border=\"1\" class=\"dataframe\">\n",
              "  <thead>\n",
              "    <tr style=\"text-align: right;\">\n",
              "      <th></th>\n",
              "      <th>_STATE</th>\n",
              "      <th>FMONTH</th>\n",
              "      <th>IDATE</th>\n",
              "      <th>IMONTH</th>\n",
              "      <th>IDAY</th>\n",
              "      <th>IYEAR</th>\n",
              "      <th>DISPCODE</th>\n",
              "      <th>SEQNO</th>\n",
              "      <th>_PSU</th>\n",
              "      <th>CTELENUM</th>\n",
              "      <th>...</th>\n",
              "      <th>_AGE80</th>\n",
              "      <th>_IMPEDUC</th>\n",
              "      <th>_IMPMRTL</th>\n",
              "      <th>_IMPHOME</th>\n",
              "      <th>RCSBRAC1</th>\n",
              "      <th>RCSRACE1</th>\n",
              "      <th>RCHISLA1</th>\n",
              "      <th>RCSBIRTH</th>\n",
              "      <th>TYPEINDS</th>\n",
              "      <th>TYPEWORK</th>\n",
              "    </tr>\n",
              "  </thead>\n",
              "  <tbody>\n",
              "    <tr>\n",
              "      <th>0</th>\n",
              "      <td>1.0</td>\n",
              "      <td>1.0</td>\n",
              "      <td>b'01092013'</td>\n",
              "      <td>b'01'</td>\n",
              "      <td>b'09'</td>\n",
              "      <td>b'2013'</td>\n",
              "      <td>1100.0</td>\n",
              "      <td>2.013001e+09</td>\n",
              "      <td>2.013001e+09</td>\n",
              "      <td>1.0</td>\n",
              "      <td>...</td>\n",
              "      <td>60.0</td>\n",
              "      <td>6.0</td>\n",
              "      <td>2.0</td>\n",
              "      <td>1.0</td>\n",
              "      <td>NaN</td>\n",
              "      <td>b''</td>\n",
              "      <td>b''</td>\n",
              "      <td>b''</td>\n",
              "      <td>b''</td>\n",
              "      <td>b''</td>\n",
              "    </tr>\n",
              "    <tr>\n",
              "      <th>1</th>\n",
              "      <td>1.0</td>\n",
              "      <td>1.0</td>\n",
              "      <td>b'01192013'</td>\n",
              "      <td>b'01'</td>\n",
              "      <td>b'19'</td>\n",
              "      <td>b'2013'</td>\n",
              "      <td>1100.0</td>\n",
              "      <td>2.013001e+09</td>\n",
              "      <td>2.013001e+09</td>\n",
              "      <td>1.0</td>\n",
              "      <td>...</td>\n",
              "      <td>50.0</td>\n",
              "      <td>5.0</td>\n",
              "      <td>1.0</td>\n",
              "      <td>1.0</td>\n",
              "      <td>NaN</td>\n",
              "      <td>b''</td>\n",
              "      <td>b''</td>\n",
              "      <td>b''</td>\n",
              "      <td>b''</td>\n",
              "      <td>b''</td>\n",
              "    </tr>\n",
              "    <tr>\n",
              "      <th>2</th>\n",
              "      <td>1.0</td>\n",
              "      <td>1.0</td>\n",
              "      <td>b'01192013'</td>\n",
              "      <td>b'01'</td>\n",
              "      <td>b'19'</td>\n",
              "      <td>b'2013'</td>\n",
              "      <td>1100.0</td>\n",
              "      <td>2.013001e+09</td>\n",
              "      <td>2.013001e+09</td>\n",
              "      <td>1.0</td>\n",
              "      <td>...</td>\n",
              "      <td>55.0</td>\n",
              "      <td>6.0</td>\n",
              "      <td>1.0</td>\n",
              "      <td>1.0</td>\n",
              "      <td>NaN</td>\n",
              "      <td>b''</td>\n",
              "      <td>b''</td>\n",
              "      <td>b''</td>\n",
              "      <td>b''</td>\n",
              "      <td>b''</td>\n",
              "    </tr>\n",
              "    <tr>\n",
              "      <th>3</th>\n",
              "      <td>1.0</td>\n",
              "      <td>1.0</td>\n",
              "      <td>b'01112013'</td>\n",
              "      <td>b'01'</td>\n",
              "      <td>b'11'</td>\n",
              "      <td>b'2013'</td>\n",
              "      <td>1100.0</td>\n",
              "      <td>2.013001e+09</td>\n",
              "      <td>2.013001e+09</td>\n",
              "      <td>1.0</td>\n",
              "      <td>...</td>\n",
              "      <td>64.0</td>\n",
              "      <td>4.0</td>\n",
              "      <td>1.0</td>\n",
              "      <td>1.0</td>\n",
              "      <td>NaN</td>\n",
              "      <td>b''</td>\n",
              "      <td>b''</td>\n",
              "      <td>b''</td>\n",
              "      <td>b''</td>\n",
              "      <td>b''</td>\n",
              "    </tr>\n",
              "    <tr>\n",
              "      <th>4</th>\n",
              "      <td>1.0</td>\n",
              "      <td>2.0</td>\n",
              "      <td>b'02062013'</td>\n",
              "      <td>b'02'</td>\n",
              "      <td>b'06'</td>\n",
              "      <td>b'2013'</td>\n",
              "      <td>1100.0</td>\n",
              "      <td>2.013001e+09</td>\n",
              "      <td>2.013001e+09</td>\n",
              "      <td>1.0</td>\n",
              "      <td>...</td>\n",
              "      <td>66.0</td>\n",
              "      <td>6.0</td>\n",
              "      <td>1.0</td>\n",
              "      <td>1.0</td>\n",
              "      <td>NaN</td>\n",
              "      <td>b''</td>\n",
              "      <td>b''</td>\n",
              "      <td>b''</td>\n",
              "      <td>b''</td>\n",
              "      <td>b''</td>\n",
              "    </tr>\n",
              "  </tbody>\n",
              "</table>\n",
              "<p>5 rows × 336 columns</p>\n",
              "</div>"
            ],
            "text/plain": [
              "   _STATE  FMONTH        IDATE IMONTH   IDAY    IYEAR  DISPCODE         SEQNO  \\\n",
              "0     1.0     1.0  b'01092013'  b'01'  b'09'  b'2013'    1100.0  2.013001e+09   \n",
              "1     1.0     1.0  b'01192013'  b'01'  b'19'  b'2013'    1100.0  2.013001e+09   \n",
              "2     1.0     1.0  b'01192013'  b'01'  b'19'  b'2013'    1100.0  2.013001e+09   \n",
              "3     1.0     1.0  b'01112013'  b'01'  b'11'  b'2013'    1100.0  2.013001e+09   \n",
              "4     1.0     2.0  b'02062013'  b'02'  b'06'  b'2013'    1100.0  2.013001e+09   \n",
              "\n",
              "           _PSU  CTELENUM  ...  _AGE80  _IMPEDUC  _IMPMRTL  _IMPHOME  \\\n",
              "0  2.013001e+09       1.0  ...    60.0       6.0       2.0       1.0   \n",
              "1  2.013001e+09       1.0  ...    50.0       5.0       1.0       1.0   \n",
              "2  2.013001e+09       1.0  ...    55.0       6.0       1.0       1.0   \n",
              "3  2.013001e+09       1.0  ...    64.0       4.0       1.0       1.0   \n",
              "4  2.013001e+09       1.0  ...    66.0       6.0       1.0       1.0   \n",
              "\n",
              "   RCSBRAC1  RCSRACE1  RCHISLA1  RCSBIRTH  TYPEINDS  TYPEWORK  \n",
              "0       NaN       b''       b''       b''       b''       b''  \n",
              "1       NaN       b''       b''       b''       b''       b''  \n",
              "2       NaN       b''       b''       b''       b''       b''  \n",
              "3       NaN       b''       b''       b''       b''       b''  \n",
              "4       NaN       b''       b''       b''       b''       b''  \n",
              "\n",
              "[5 rows x 336 columns]"
            ]
          },
          "execution_count": 55,
          "metadata": {},
          "output_type": "execute_result"
        }
      ],
      "source": [
        "dataset3 = pd.read_csv(\"content/2013.csv\")\n",
        "dataset3.head()"
      ]
    },
    {
      "cell_type": "code",
      "execution_count": null,
      "metadata": {
        "id": "-o9Pdo96q-Ki"
      },
      "outputs": [],
      "source": [
        "dataset3.drop('IDATE',axis=1,inplace=True)\n",
        "dataset3.drop('IMONTH',axis=1,inplace=True)\n",
        "dataset3.drop('IDAY',axis=1,inplace=True)\n",
        "dataset3.drop('IYEAR',axis=1,inplace=True)"
      ]
    },
    {
      "cell_type": "code",
      "execution_count": null,
      "metadata": {
        "id": "ZhJ6bfUmq-Ki",
        "outputId": "1030d580-4cb9-4c3b-9f34-d359c7a26ccd"
      },
      "outputs": [
        {
          "data": {
            "text/html": [
              "<div>\n",
              "<style scoped>\n",
              "    .dataframe tbody tr th:only-of-type {\n",
              "        vertical-align: middle;\n",
              "    }\n",
              "\n",
              "    .dataframe tbody tr th {\n",
              "        vertical-align: top;\n",
              "    }\n",
              "\n",
              "    .dataframe thead th {\n",
              "        text-align: right;\n",
              "    }\n",
              "</style>\n",
              "<table border=\"1\" class=\"dataframe\">\n",
              "  <thead>\n",
              "    <tr style=\"text-align: right;\">\n",
              "      <th></th>\n",
              "      <th>_STATE</th>\n",
              "      <th>FMONTH</th>\n",
              "      <th>DISPCODE</th>\n",
              "      <th>SEQNO</th>\n",
              "      <th>_PSU</th>\n",
              "      <th>CTELENUM</th>\n",
              "      <th>PVTRESD1</th>\n",
              "      <th>COLGHOUS</th>\n",
              "      <th>STATERES</th>\n",
              "      <th>CELLFON3</th>\n",
              "      <th>...</th>\n",
              "      <th>_AGE80</th>\n",
              "      <th>_IMPEDUC</th>\n",
              "      <th>_IMPMRTL</th>\n",
              "      <th>_IMPHOME</th>\n",
              "      <th>RCSBRAC1</th>\n",
              "      <th>RCSRACE1</th>\n",
              "      <th>RCHISLA1</th>\n",
              "      <th>RCSBIRTH</th>\n",
              "      <th>TYPEINDS</th>\n",
              "      <th>TYPEWORK</th>\n",
              "    </tr>\n",
              "  </thead>\n",
              "  <tbody>\n",
              "    <tr>\n",
              "      <th>0</th>\n",
              "      <td>1.0</td>\n",
              "      <td>1.0</td>\n",
              "      <td>1100.0</td>\n",
              "      <td>2.013001e+09</td>\n",
              "      <td>2.013001e+09</td>\n",
              "      <td>1.0</td>\n",
              "      <td>1.0</td>\n",
              "      <td>NaN</td>\n",
              "      <td>1.0</td>\n",
              "      <td>1.0</td>\n",
              "      <td>...</td>\n",
              "      <td>60.0</td>\n",
              "      <td>6.0</td>\n",
              "      <td>2.0</td>\n",
              "      <td>1.0</td>\n",
              "      <td>NaN</td>\n",
              "      <td>0</td>\n",
              "      <td>0</td>\n",
              "      <td>0</td>\n",
              "      <td>0</td>\n",
              "      <td>0</td>\n",
              "    </tr>\n",
              "    <tr>\n",
              "      <th>1</th>\n",
              "      <td>1.0</td>\n",
              "      <td>1.0</td>\n",
              "      <td>1100.0</td>\n",
              "      <td>2.013001e+09</td>\n",
              "      <td>2.013001e+09</td>\n",
              "      <td>1.0</td>\n",
              "      <td>1.0</td>\n",
              "      <td>NaN</td>\n",
              "      <td>1.0</td>\n",
              "      <td>1.0</td>\n",
              "      <td>...</td>\n",
              "      <td>50.0</td>\n",
              "      <td>5.0</td>\n",
              "      <td>1.0</td>\n",
              "      <td>1.0</td>\n",
              "      <td>NaN</td>\n",
              "      <td>0</td>\n",
              "      <td>0</td>\n",
              "      <td>0</td>\n",
              "      <td>0</td>\n",
              "      <td>0</td>\n",
              "    </tr>\n",
              "    <tr>\n",
              "      <th>2</th>\n",
              "      <td>1.0</td>\n",
              "      <td>1.0</td>\n",
              "      <td>1100.0</td>\n",
              "      <td>2.013001e+09</td>\n",
              "      <td>2.013001e+09</td>\n",
              "      <td>1.0</td>\n",
              "      <td>1.0</td>\n",
              "      <td>NaN</td>\n",
              "      <td>1.0</td>\n",
              "      <td>1.0</td>\n",
              "      <td>...</td>\n",
              "      <td>55.0</td>\n",
              "      <td>6.0</td>\n",
              "      <td>1.0</td>\n",
              "      <td>1.0</td>\n",
              "      <td>NaN</td>\n",
              "      <td>0</td>\n",
              "      <td>0</td>\n",
              "      <td>0</td>\n",
              "      <td>0</td>\n",
              "      <td>0</td>\n",
              "    </tr>\n",
              "    <tr>\n",
              "      <th>3</th>\n",
              "      <td>1.0</td>\n",
              "      <td>1.0</td>\n",
              "      <td>1100.0</td>\n",
              "      <td>2.013001e+09</td>\n",
              "      <td>2.013001e+09</td>\n",
              "      <td>1.0</td>\n",
              "      <td>1.0</td>\n",
              "      <td>NaN</td>\n",
              "      <td>1.0</td>\n",
              "      <td>1.0</td>\n",
              "      <td>...</td>\n",
              "      <td>64.0</td>\n",
              "      <td>4.0</td>\n",
              "      <td>1.0</td>\n",
              "      <td>1.0</td>\n",
              "      <td>NaN</td>\n",
              "      <td>0</td>\n",
              "      <td>0</td>\n",
              "      <td>0</td>\n",
              "      <td>0</td>\n",
              "      <td>0</td>\n",
              "    </tr>\n",
              "    <tr>\n",
              "      <th>4</th>\n",
              "      <td>1.0</td>\n",
              "      <td>2.0</td>\n",
              "      <td>1100.0</td>\n",
              "      <td>2.013001e+09</td>\n",
              "      <td>2.013001e+09</td>\n",
              "      <td>1.0</td>\n",
              "      <td>1.0</td>\n",
              "      <td>NaN</td>\n",
              "      <td>1.0</td>\n",
              "      <td>1.0</td>\n",
              "      <td>...</td>\n",
              "      <td>66.0</td>\n",
              "      <td>6.0</td>\n",
              "      <td>1.0</td>\n",
              "      <td>1.0</td>\n",
              "      <td>NaN</td>\n",
              "      <td>0</td>\n",
              "      <td>0</td>\n",
              "      <td>0</td>\n",
              "      <td>0</td>\n",
              "      <td>0</td>\n",
              "    </tr>\n",
              "  </tbody>\n",
              "</table>\n",
              "<p>5 rows × 332 columns</p>\n",
              "</div>"
            ],
            "text/plain": [
              "   _STATE  FMONTH  DISPCODE         SEQNO          _PSU  CTELENUM  PVTRESD1  \\\n",
              "0     1.0     1.0    1100.0  2.013001e+09  2.013001e+09       1.0       1.0   \n",
              "1     1.0     1.0    1100.0  2.013001e+09  2.013001e+09       1.0       1.0   \n",
              "2     1.0     1.0    1100.0  2.013001e+09  2.013001e+09       1.0       1.0   \n",
              "3     1.0     1.0    1100.0  2.013001e+09  2.013001e+09       1.0       1.0   \n",
              "4     1.0     2.0    1100.0  2.013001e+09  2.013001e+09       1.0       1.0   \n",
              "\n",
              "   COLGHOUS  STATERES  CELLFON3  ...  _AGE80  _IMPEDUC  _IMPMRTL  _IMPHOME  \\\n",
              "0       NaN       1.0       1.0  ...    60.0       6.0       2.0       1.0   \n",
              "1       NaN       1.0       1.0  ...    50.0       5.0       1.0       1.0   \n",
              "2       NaN       1.0       1.0  ...    55.0       6.0       1.0       1.0   \n",
              "3       NaN       1.0       1.0  ...    64.0       4.0       1.0       1.0   \n",
              "4       NaN       1.0       1.0  ...    66.0       6.0       1.0       1.0   \n",
              "\n",
              "   RCSBRAC1  RCSRACE1  RCHISLA1  RCSBIRTH  TYPEINDS  TYPEWORK  \n",
              "0       NaN         0         0         0         0         0  \n",
              "1       NaN         0         0         0         0         0  \n",
              "2       NaN         0         0         0         0         0  \n",
              "3       NaN         0         0         0         0         0  \n",
              "4       NaN         0         0         0         0         0  \n",
              "\n",
              "[5 rows x 332 columns]"
            ]
          },
          "execution_count": 68,
          "metadata": {},
          "output_type": "execute_result"
        }
      ],
      "source": [
        "dataset3.head()"
      ]
    },
    {
      "cell_type": "code",
      "execution_count": null,
      "metadata": {
        "id": "xnu3brtUq-Ki"
      },
      "outputs": [],
      "source": [
        "X = dataset3.iloc[:, :-1]\n",
        "y = dataset3.iloc[:, -1]"
      ]
    },
    {
      "cell_type": "code",
      "execution_count": null,
      "metadata": {
        "id": "H_xsSxgeq-Ki"
      },
      "outputs": [],
      "source": [
        "X_train, X_test, y_train, y_test = train_test_split(X, y, test_size=0.2, random_state=1)"
      ]
    },
    {
      "cell_type": "code",
      "execution_count": null,
      "metadata": {
        "id": "vshL2C4Nq-Ki"
      },
      "outputs": [],
      "source": [
        "from sklearn.preprocessing import LabelEncoder\n",
        "le = LabelEncoder()\n",
        "\n",
        "for col in dataset3.columns:\n",
        "    if dataset3[col].dtype == \"object\":\n",
        "        dataset3[col] = le.fit_transform(dataset3[col])"
      ]
    },
    {
      "cell_type": "code",
      "execution_count": null,
      "metadata": {
        "id": "A98Cn-gpq-Kj",
        "outputId": "f1bcbc39-12d8-4eeb-b9a1-0e04021ef452"
      },
      "outputs": [
        {
          "name": "stdout",
          "output_type": "stream",
          "text": [
            "Accuracy: 1.0\n"
          ]
        }
      ],
      "source": [
        "from sklearn.ensemble import RandomForestClassifier\n",
        "from sklearn.metrics import accuracy_score\n",
        "\n",
        "clf3 = RandomForestClassifier(n_estimators=100)\n",
        "\n",
        "clf3.fit(X_train, y_train)\n",
        "\n",
        "y_pred = clf3.predict(X_test)\n",
        "\n",
        "accuracy = accuracy_score(y_test, y_pred)\n",
        "\n",
        "print(f\"Accuracy: {accuracy}\")"
      ]
    },
    {
      "cell_type": "code",
      "execution_count": null,
      "metadata": {
        "id": "CsULlrqPq-Kj",
        "outputId": "fc98f6b2-0035-49c9-bfc2-b36bd7eee97f"
      },
      "outputs": [
        {
          "data": {
            "text/plain": [
              "array(['_STATE', 'FMONTH', 'DISPCODE', 'SEQNO', '_PSU', 'CTELENUM',\n",
              "       'PVTRESD1', 'COLGHOUS', 'STATERES', 'CELLFON3', 'LADULT',\n",
              "       'NUMADULT', 'NUMMEN', 'NUMWOMEN', 'GENHLTH', 'PHYSHLTH',\n",
              "       'MENTHLTH', 'POORHLTH', 'HLTHPLN1', 'PERSDOC2', 'MEDCOST',\n",
              "       'CHECKUP1', 'SLEPTIM1', 'BPHIGH4', 'BPMEDS', 'BLOODCHO', 'CHOLCHK',\n",
              "       'TOLDHI2', 'CVDINFR4', 'CVDCRHD4', 'CVDSTRK3', 'ASTHMA3',\n",
              "       'ASTHNOW', 'CHCSCNCR', 'CHCOCNCR', 'CHCCOPD1', 'HAVARTH3',\n",
              "       'ADDEPEV2', 'CHCKIDNY', 'DIABETE3', 'VETERAN3', 'MARITAL',\n",
              "       'CHILDREN', 'EDUCA', 'EMPLOY1', 'INCOME2', 'WEIGHT2', 'HEIGHT3',\n",
              "       'NUMHHOL2', 'NUMPHON2', 'CPDEMO1', 'CPDEMO4', 'INTERNET',\n",
              "       'RENTHOM1', 'SEX', 'PREGNANT', 'QLACTLM2', 'USEEQUIP', 'BLIND',\n",
              "       'DECIDE', 'DIFFWALK', 'DIFFDRES', 'DIFFALON', 'SMOKE100',\n",
              "       'SMOKDAY2', 'STOPSMK2', 'LASTSMK2', 'USENOW3', 'ALCDAY5',\n",
              "       'AVEDRNK2', 'DRNK3GE5', 'MAXDRNKS', 'FRUITJU1', 'FRUIT1',\n",
              "       'FVBEANS', 'FVGREEN', 'FVORANG', 'VEGETAB1', 'EXERANY2',\n",
              "       'EXRACT11', 'EXEROFT1', 'EXERHMM1', 'EXRACT21', 'EXEROFT2',\n",
              "       'EXERHMM2', 'STRENGTH', 'LMTJOIN3', 'ARTHDIS2', 'ARTHSOCL',\n",
              "       'JOINPAIN', 'SEATBELT', 'FLUSHOT6', 'FLSHTMY2', 'TETANUS',\n",
              "       'PNEUVAC3', 'HIVTST6', 'HIVTSTD3', 'WHRTST10', 'PDIABTST',\n",
              "       'PREDIAB1', 'DIABAGE2', 'INSULIN', 'BLDSUGAR', 'FEETCHK2',\n",
              "       'DOCTDIAB', 'CHKHEMO3', 'FEETCHK', 'EYEEXAM', 'DIABEYE', 'DIABEDU',\n",
              "       'PAINACT2', 'QLMENTL2', 'QLSTRES2', 'QLHLTH2', 'MEDICARE',\n",
              "       'HLTHCVRG', 'DELAYMED', 'DLYOTHER', 'NOCOV121', 'LSTCOVRG',\n",
              "       'DRVISITS', 'MEDSCOST', 'CARERCVD', 'MEDBILLS', 'SSBSUGAR',\n",
              "       'SSBFRUT2', 'WTCHSALT', 'LONGWTCH', 'DRADVISE', 'ASTHMAGE',\n",
              "       'ASATTACK', 'ASERVIST', 'ASDRVIST', 'ASRCHKUP', 'ASACTLIM',\n",
              "       'ASYMPTOM', 'ASNOSLEP', 'ASTHMED3', 'ASINHALR', 'HAREHAB1',\n",
              "       'STREHAB1', 'CVDASPRN', 'ASPUNSAF', 'RLIVPAIN', 'RDUCHART',\n",
              "       'RDUCSTRK', 'ARTTODAY', 'ARTHWGT', 'ARTHEXER', 'ARTHEDU',\n",
              "       'IMFVPLAC', 'HPVADVC2', 'HPVADSHT', 'HADMAM', 'HOWLONG',\n",
              "       'PROFEXAM', 'LENGEXAM', 'HADPAP2', 'LASTPAP2', 'HADHYST2',\n",
              "       'BLDSTOOL', 'LSTBLDS3', 'HADSIGM3', 'HADSGCO1', 'LASTSIG3',\n",
              "       'PCPSAAD2', 'PCPSADI1', 'PCPSARE1', 'PSATEST1', 'PSATIME',\n",
              "       'PCPSARS1', 'PCPSADE1', 'PCDMDECN', 'RRCLASS2', 'RRCOGNT2',\n",
              "       'RRATWRK2', 'RRHCARE3', 'RRPHYSM2', 'RREMTSM2', 'MISNERVS',\n",
              "       'MISHOPLS', 'MISRSTLS', 'MISDEPRD', 'MISEFFRT', 'MISWTLES',\n",
              "       'MISNOWRK', 'MISTMNT', 'MISTRHLP', 'MISPHLPF', 'SCNTMONY',\n",
              "       'SCNTMEAL', 'SCNTPAID', 'SCNTWRK1', 'SCNTLPAD', 'SCNTLWK1',\n",
              "       'SCNTVOT1', 'RCSGENDR', 'RCSRLTN2', 'CASTHDX2', 'CASTHNO2',\n",
              "       'EMTSUPRT', 'LSATISFY', 'CTELNUM1', 'CELLFON2', 'CADULT',\n",
              "       'PVTRESD2', 'CCLGHOUS', 'CSTATE', 'LANDLINE', 'PCTCELL', 'QSTVER',\n",
              "       'QSTLANG', 'MSCODE', '_STSTR', '_STRWT', '_RAWRAKE', '_WT2RAKE',\n",
              "       '_IMPRACE', '_IMPNPH', '_CHISPNC', '_CRACE1', '_IMPCAGE',\n",
              "       '_IMPCRAC', '_IMPCSEX', '_CLLCPWT', '_DUALUSE', '_DUALCOR',\n",
              "       '_LLCPWT2', '_LLCPWT', '_RFHLTH', '_HCVU651', '_RFHYPE5',\n",
              "       '_CHOLCHK', '_RFCHOL', '_LTASTH1', '_CASTHM1', '_ASTHMS1',\n",
              "       '_DRDXAR1', '_PRACE1', '_MRACE1', '_HISPANC', '_RACE', '_RACEG21',\n",
              "       '_RACEGR3', '_RACE_G1', '_AGEG5YR', '_AGE65YR', '_AGE_G', 'HTIN4',\n",
              "       'HTM4', 'WTKG3', '_BMI5', '_BMI5CAT', '_RFBMI5', '_CHLDCNT',\n",
              "       '_EDUCAG', '_INCOMG', '_SMOKER3', '_RFSMOK3', 'DRNKANY5',\n",
              "       'DROCDY3_', '_RFBING5', '_DRNKDY4', '_DRNKMO4', '_RFDRHV4',\n",
              "       '_RFDRMN4', '_RFDRWM4', 'FTJUDA1_', 'FRUTDA1_', 'BEANDAY_',\n",
              "       'GRENDAY_', 'ORNGDAY_', 'VEGEDA1_', '_MISFRTN', '_MISVEGN',\n",
              "       '_FRTRESP', '_VEGRESP', '_FRUTSUM', '_VEGESUM', '_FRTLT1',\n",
              "       '_VEGLT1', '_FRT16', '_VEG23', '_FRUITEX', '_VEGETEX', '_TOTINDA',\n",
              "       'METVL11_', 'METVL21_', 'MAXVO2_', 'FC60_', 'ACTIN11_', 'ACTIN21_',\n",
              "       'PADUR1_', 'PADUR2_', 'PAFREQ1_', 'PAFREQ2_', '_MINAC11',\n",
              "       '_MINAC21', 'STRFREQ_', 'PAMISS1_', 'PAMIN11_', 'PAMIN21_',\n",
              "       'PA1MIN_', 'PAVIG11_', 'PAVIG21_', 'PA1VIGM_', '_PACAT1',\n",
              "       '_PAINDX1', '_PA150R2', '_PA300R2', '_PA30021', '_PASTRNG',\n",
              "       '_PAREC1', '_PASTAE1', '_LMTACT1', '_LMTWRK1', '_LMTSCL1',\n",
              "       '_RFSEAT2', '_RFSEAT3', '_FLSHOT6', '_PNEUMO2', '_AIDTST3',\n",
              "       '_AGE80', '_IMPEDUC', '_IMPMRTL', '_IMPHOME', 'RCSBRAC1',\n",
              "       'RCSRACE1', 'RCHISLA1', 'RCSBIRTH', 'TYPEINDS', 'TYPEWORK'],\n",
              "      dtype=object)"
            ]
          },
          "execution_count": 79,
          "metadata": {},
          "output_type": "execute_result"
        }
      ],
      "source": [
        "feature_col = dataset3.columns.values\n",
        "feature_col"
      ]
    },
    {
      "cell_type": "code",
      "execution_count": null,
      "metadata": {
        "id": "KrOwr0weq-Kj",
        "outputId": "0beac00b-42e2-4bc7-c570-8c7c5cfda4ec"
      },
      "outputs": [
        {
          "data": {
            "text/plain": [
              "array(['_STATE', 'FMONTH', 'DISPCODE', 'SEQNO', '_PSU', 'CTELENUM',\n",
              "       'PVTRESD1', 'COLGHOUS', 'STATERES', 'CELLFON3', 'LADULT',\n",
              "       'NUMADULT', 'NUMMEN', 'NUMWOMEN', 'GENHLTH', 'PHYSHLTH',\n",
              "       'MENTHLTH', 'POORHLTH', 'HLTHPLN1', 'PERSDOC2', 'MEDCOST',\n",
              "       'CHECKUP1', 'SLEPTIM1', 'BPHIGH4', 'BPMEDS', 'BLOODCHO', 'CHOLCHK',\n",
              "       'TOLDHI2', 'CVDINFR4', 'CVDCRHD4', 'CVDSTRK3', 'ASTHMA3',\n",
              "       'ASTHNOW', 'CHCSCNCR', 'CHCOCNCR', 'CHCCOPD1', 'HAVARTH3',\n",
              "       'ADDEPEV2', 'CHCKIDNY', 'DIABETE3', 'VETERAN3', 'MARITAL',\n",
              "       'CHILDREN', 'EDUCA', 'EMPLOY1', 'INCOME2', 'WEIGHT2', 'HEIGHT3',\n",
              "       'NUMHHOL2', 'NUMPHON2', 'CPDEMO1', 'CPDEMO4', 'INTERNET',\n",
              "       'RENTHOM1', 'SEX', 'PREGNANT', 'QLACTLM2', 'USEEQUIP', 'BLIND',\n",
              "       'DECIDE', 'DIFFWALK', 'DIFFDRES', 'DIFFALON', 'SMOKE100',\n",
              "       'SMOKDAY2', 'STOPSMK2', 'LASTSMK2', 'USENOW3', 'ALCDAY5',\n",
              "       'AVEDRNK2', 'DRNK3GE5', 'MAXDRNKS', 'FRUITJU1', 'FRUIT1',\n",
              "       'FVBEANS', 'FVGREEN', 'FVORANG', 'VEGETAB1', 'EXERANY2',\n",
              "       'EXRACT11', 'EXEROFT1', 'EXERHMM1', 'EXRACT21', 'EXEROFT2',\n",
              "       'EXERHMM2', 'STRENGTH', 'LMTJOIN3', 'ARTHDIS2', 'ARTHSOCL',\n",
              "       'JOINPAIN', 'SEATBELT', 'FLUSHOT6', 'FLSHTMY2', 'TETANUS',\n",
              "       'PNEUVAC3', 'HIVTST6', 'HIVTSTD3', 'WHRTST10', 'PDIABTST',\n",
              "       'PREDIAB1', 'DIABAGE2', 'INSULIN', 'BLDSUGAR', 'FEETCHK2',\n",
              "       'DOCTDIAB', 'CHKHEMO3', 'FEETCHK', 'EYEEXAM', 'DIABEYE', 'DIABEDU',\n",
              "       'PAINACT2', 'QLMENTL2', 'QLSTRES2', 'QLHLTH2', 'MEDICARE',\n",
              "       'HLTHCVRG', 'DELAYMED', 'DLYOTHER', 'NOCOV121', 'LSTCOVRG',\n",
              "       'DRVISITS', 'MEDSCOST', 'CARERCVD', 'MEDBILLS', 'SSBSUGAR',\n",
              "       'SSBFRUT2', 'WTCHSALT', 'LONGWTCH', 'DRADVISE', 'ASTHMAGE',\n",
              "       'ASATTACK', 'ASERVIST', 'ASDRVIST', 'ASRCHKUP', 'ASACTLIM',\n",
              "       'ASYMPTOM', 'ASNOSLEP', 'ASTHMED3', 'ASINHALR', 'HAREHAB1',\n",
              "       'STREHAB1', 'CVDASPRN', 'ASPUNSAF', 'RLIVPAIN', 'RDUCHART',\n",
              "       'RDUCSTRK', 'ARTTODAY', 'ARTHWGT', 'ARTHEXER', 'ARTHEDU',\n",
              "       'IMFVPLAC', 'HPVADVC2', 'HPVADSHT', 'HADMAM', 'HOWLONG',\n",
              "       'PROFEXAM', 'LENGEXAM', 'HADPAP2', 'LASTPAP2', 'HADHYST2',\n",
              "       'BLDSTOOL', 'LSTBLDS3', 'HADSIGM3', 'HADSGCO1', 'LASTSIG3',\n",
              "       'PCPSAAD2', 'PCPSADI1', 'PCPSARE1', 'PSATEST1', 'PSATIME',\n",
              "       'PCPSARS1', 'PCPSADE1', 'PCDMDECN', 'RRCLASS2', 'RRCOGNT2',\n",
              "       'RRATWRK2', 'RRHCARE3', 'RRPHYSM2', 'RREMTSM2', 'MISNERVS',\n",
              "       'MISHOPLS', 'MISRSTLS', 'MISDEPRD', 'MISEFFRT', 'MISWTLES',\n",
              "       'MISNOWRK', 'MISTMNT', 'MISTRHLP', 'MISPHLPF', 'SCNTMONY',\n",
              "       'SCNTMEAL', 'SCNTPAID', 'SCNTWRK1', 'SCNTLPAD', 'SCNTLWK1',\n",
              "       'SCNTVOT1', 'RCSGENDR', 'RCSRLTN2', 'CASTHDX2', 'CASTHNO2',\n",
              "       'EMTSUPRT', 'LSATISFY', 'CTELNUM1', 'CELLFON2', 'CADULT',\n",
              "       'PVTRESD2', 'CCLGHOUS', 'CSTATE', 'LANDLINE', 'PCTCELL', 'QSTVER',\n",
              "       'QSTLANG', 'MSCODE', '_STSTR', '_STRWT', '_RAWRAKE', '_WT2RAKE',\n",
              "       '_IMPRACE', '_IMPNPH', '_CHISPNC', '_CRACE1', '_IMPCAGE',\n",
              "       '_IMPCRAC', '_IMPCSEX', '_CLLCPWT', '_DUALUSE', '_DUALCOR',\n",
              "       '_LLCPWT2', '_LLCPWT', '_RFHLTH', '_HCVU651', '_RFHYPE5',\n",
              "       '_CHOLCHK', '_RFCHOL', '_LTASTH1', '_CASTHM1', '_ASTHMS1',\n",
              "       '_DRDXAR1', '_PRACE1', '_MRACE1', '_HISPANC', '_RACE', '_RACEG21',\n",
              "       '_RACEGR3', '_RACE_G1', '_AGEG5YR', '_AGE65YR', '_AGE_G', 'HTIN4',\n",
              "       'HTM4', 'WTKG3', '_BMI5', '_BMI5CAT', '_RFBMI5', '_CHLDCNT',\n",
              "       '_EDUCAG', '_INCOMG', '_SMOKER3', '_RFSMOK3', 'DRNKANY5',\n",
              "       'DROCDY3_', '_RFBING5', '_DRNKDY4', '_DRNKMO4', '_RFDRHV4',\n",
              "       '_RFDRMN4', '_RFDRWM4', 'FTJUDA1_', 'FRUTDA1_', 'BEANDAY_',\n",
              "       'GRENDAY_', 'ORNGDAY_', 'VEGEDA1_', '_MISFRTN', '_MISVEGN',\n",
              "       '_FRTRESP', '_VEGRESP', '_FRUTSUM', '_VEGESUM', '_FRTLT1',\n",
              "       '_VEGLT1', '_FRT16', '_VEG23', '_FRUITEX', '_VEGETEX', '_TOTINDA',\n",
              "       'METVL11_', 'METVL21_', 'MAXVO2_', 'FC60_', 'ACTIN11_', 'ACTIN21_',\n",
              "       'PADUR1_', 'PADUR2_', 'PAFREQ1_', 'PAFREQ2_', '_MINAC11',\n",
              "       '_MINAC21', 'STRFREQ_', 'PAMISS1_', 'PAMIN11_', 'PAMIN21_',\n",
              "       'PA1MIN_', 'PAVIG11_', 'PAVIG21_', 'PA1VIGM_', '_PACAT1',\n",
              "       '_PAINDX1', '_PA150R2', '_PA300R2', '_PA30021', '_PASTRNG',\n",
              "       '_PAREC1', '_PASTAE1', '_LMTACT1', '_LMTWRK1', '_LMTSCL1',\n",
              "       '_RFSEAT2', '_RFSEAT3', '_FLSHOT6', '_PNEUMO2', '_AIDTST3',\n",
              "       '_AGE80', '_IMPEDUC', '_IMPMRTL', '_IMPHOME', 'RCSBRAC1',\n",
              "       'RCSRACE1', 'RCHISLA1', 'RCSBIRTH', 'TYPEINDS'], dtype=object)"
            ]
          },
          "execution_count": 82,
          "metadata": {},
          "output_type": "execute_result"
        }
      ],
      "source": [
        "feature_col = feature_col[:-1]\n",
        "feature_col"
      ]
    },
    {
      "cell_type": "code",
      "execution_count": null,
      "metadata": {
        "id": "cTK_kxDpq-Kj",
        "outputId": "94c794aa-df7c-42eb-bf3f-e0a2f27d33fd"
      },
      "outputs": [
        {
          "name": "stdout",
          "output_type": "stream",
          "text": [
            "_STATE      0.0\n",
            "_LLCPWT2    0.0\n",
            "_DUALUSE    0.0\n",
            "_CLLCPWT    0.0\n",
            "_IMPCSEX    0.0\n",
            "           ... \n",
            "DIABEDU     0.0\n",
            "DIABEYE     0.0\n",
            "EYEEXAM     0.0\n",
            "FEETCHK     0.0\n",
            "TYPEINDS    0.0\n",
            "Length: 331, dtype: float64\n"
          ]
        }
      ],
      "source": [
        "feature_imp3= pd.Series(clf2.feature_importances_, index=feature_col).sort_values(ascending=False)\n",
        "print(feature_imp3)"
      ]
    },
    {
      "cell_type": "code",
      "execution_count": null,
      "metadata": {
        "id": "dEcp8ztEq-Kj",
        "outputId": "f54a2994-b075-41f2-9ab3-8f177deaf464"
      },
      "outputs": [
        {
          "data": {
            "image/png": "[encoded data removed]",
            "text/plain": [
              "<Figure size 640x480 with 1 Axes>"
            ]
          },
          "metadata": {},
          "output_type": "display_data"
        }
      ],
      "source": [
        "import matplotlib.pyplot as plt\n",
        "import seaborn as sns\n",
        "%matplotlib inline\n",
        "\n",
        "sns.barplot(x=feature_imp3, y=feature_imp3.index)\n",
        "\n",
        "plt.xlabel('Feature Importance Score')\n",
        "plt.ylabel('Features')\n",
        "plt.title(\"Visualizing Important Features\")\n",
        "plt.show()\n"
      ]
    }
  ],
  "metadata": {
    "kernelspec": {
      "display_name": "Python 3",
      "language": "python",
      "name": "python3"
    },
    "language_info": {
      "codemirror_mode": {
        "name": "ipython",
        "version": 3
      },
      "file_extension": ".py",
      "mimetype": "text/x-python",
      "name": "python",
      "nbconvert_exporter": "python",
      "pygments_lexer": "ipython3",
      "version": "3.12.0"
    },
    "colab": {
      "provenance": []
    }
  },
  "nbformat": 4,
  "nbformat_minor": 0
}